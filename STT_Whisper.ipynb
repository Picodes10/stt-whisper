{
 "cells": [
  {
   "cell_type": "code",
   "execution_count": 1,
   "id": "8fc5ce0c",
   "metadata": {},
   "outputs": [
    {
     "name": "stdout",
     "output_type": "stream",
     "text": [
      "Collecting git+https://github.com/openai/whisper.git\n",
      "  Cloning https://github.com/openai/whisper.git to c:\\users\\dell\\appdata\\local\\temp\\pip-req-build-hyy9zf77\n",
      "  Resolved https://github.com/openai/whisper.git to commit dd985ac4b90cafeef8712f2998d62c59c3e62d22\n",
      "  Installing build dependencies: started\n",
      "  Installing build dependencies: finished with status 'done'\n",
      "  Getting requirements to build wheel: started\n",
      "  Getting requirements to build wheel: finished with status 'done'\n",
      "  Preparing metadata (pyproject.toml): started\n",
      "  Preparing metadata (pyproject.toml): finished with status 'done'\n",
      "Requirement already satisfied: ffmpeg-python in c:\\users\\dell\\stt-whisper\\venv\\lib\\site-packages (0.2.0)\n",
      "Requirement already satisfied: torchaudio in c:\\users\\dell\\stt-whisper\\venv\\lib\\site-packages (2.7.0)\n",
      "Requirement already satisfied: transformers in c:\\users\\dell\\stt-whisper\\venv\\lib\\site-packages (4.51.3)\n",
      "Requirement already satisfied: soundfile in c:\\users\\dell\\stt-whisper\\venv\\lib\\site-packages (0.13.1)\n",
      "Requirement already satisfied: more-itertools in c:\\users\\dell\\stt-whisper\\venv\\lib\\site-packages (from openai-whisper==20240930) (10.7.0)\n",
      "Requirement already satisfied: numba in c:\\users\\dell\\stt-whisper\\venv\\lib\\site-packages (from openai-whisper==20240930) (0.61.2)\n",
      "Requirement already satisfied: numpy in c:\\users\\dell\\stt-whisper\\venv\\lib\\site-packages (from openai-whisper==20240930) (2.2.5)\n",
      "Requirement already satisfied: tiktoken in c:\\users\\dell\\stt-whisper\\venv\\lib\\site-packages (from openai-whisper==20240930) (0.9.0)\n",
      "Requirement already satisfied: torch in c:\\users\\dell\\stt-whisper\\venv\\lib\\site-packages (from openai-whisper==20240930) (2.7.0)\n",
      "Requirement already satisfied: tqdm in c:\\users\\dell\\stt-whisper\\venv\\lib\\site-packages (from openai-whisper==20240930) (4.67.1)\n",
      "Requirement already satisfied: future in c:\\users\\dell\\stt-whisper\\venv\\lib\\site-packages (from ffmpeg-python) (1.0.0)\n",
      "Requirement already satisfied: filelock in c:\\users\\dell\\stt-whisper\\venv\\lib\\site-packages (from torch->openai-whisper==20240930) (3.18.0)\n",
      "Requirement already satisfied: typing-extensions>=4.10.0 in c:\\users\\dell\\stt-whisper\\venv\\lib\\site-packages (from torch->openai-whisper==20240930) (4.13.2)\n",
      "Requirement already satisfied: sympy>=1.13.3 in c:\\users\\dell\\stt-whisper\\venv\\lib\\site-packages (from torch->openai-whisper==20240930) (1.14.0)\n",
      "Requirement already satisfied: networkx in c:\\users\\dell\\stt-whisper\\venv\\lib\\site-packages (from torch->openai-whisper==20240930) (3.4.2)\n",
      "Requirement already satisfied: jinja2 in c:\\users\\dell\\stt-whisper\\venv\\lib\\site-packages (from torch->openai-whisper==20240930) (3.1.6)\n",
      "Requirement already satisfied: fsspec in c:\\users\\dell\\stt-whisper\\venv\\lib\\site-packages (from torch->openai-whisper==20240930) (2025.3.2)\n",
      "Requirement already satisfied: setuptools in c:\\users\\dell\\stt-whisper\\venv\\lib\\site-packages (from torch->openai-whisper==20240930) (80.7.1)\n",
      "Requirement already satisfied: huggingface-hub<1.0,>=0.30.0 in c:\\users\\dell\\stt-whisper\\venv\\lib\\site-packages (from transformers) (0.31.2)\n",
      "Requirement already satisfied: packaging>=20.0 in c:\\users\\dell\\stt-whisper\\venv\\lib\\site-packages (from transformers) (24.2)\n",
      "Requirement already satisfied: pyyaml>=5.1 in c:\\users\\dell\\stt-whisper\\venv\\lib\\site-packages (from transformers) (6.0.2)\n",
      "Requirement already satisfied: regex!=2019.12.17 in c:\\users\\dell\\stt-whisper\\venv\\lib\\site-packages (from transformers) (2024.11.6)\n",
      "Requirement already satisfied: requests in c:\\users\\dell\\stt-whisper\\venv\\lib\\site-packages (from transformers) (2.32.3)\n",
      "Requirement already satisfied: tokenizers<0.22,>=0.21 in c:\\users\\dell\\stt-whisper\\venv\\lib\\site-packages (from transformers) (0.21.1)\n",
      "Requirement already satisfied: safetensors>=0.4.3 in c:\\users\\dell\\stt-whisper\\venv\\lib\\site-packages (from transformers) (0.5.3)\n",
      "Requirement already satisfied: cffi>=1.0 in c:\\users\\dell\\stt-whisper\\venv\\lib\\site-packages (from soundfile) (1.17.1)\n",
      "Requirement already satisfied: pycparser in c:\\users\\dell\\stt-whisper\\venv\\lib\\site-packages (from cffi>=1.0->soundfile) (2.22)\n",
      "Requirement already satisfied: colorama in c:\\users\\dell\\stt-whisper\\venv\\lib\\site-packages (from tqdm->openai-whisper==20240930) (0.4.6)\n",
      "Requirement already satisfied: llvmlite<0.45,>=0.44.0dev0 in c:\\users\\dell\\stt-whisper\\venv\\lib\\site-packages (from numba->openai-whisper==20240930) (0.44.0)\n",
      "Requirement already satisfied: charset-normalizer<4,>=2 in c:\\users\\dell\\stt-whisper\\venv\\lib\\site-packages (from requests->transformers) (3.4.2)\n",
      "Requirement already satisfied: idna<4,>=2.5 in c:\\users\\dell\\stt-whisper\\venv\\lib\\site-packages (from requests->transformers) (3.10)\n",
      "Requirement already satisfied: urllib3<3,>=1.21.1 in c:\\users\\dell\\stt-whisper\\venv\\lib\\site-packages (from requests->transformers) (2.4.0)\n",
      "Requirement already satisfied: certifi>=2017.4.17 in c:\\users\\dell\\stt-whisper\\venv\\lib\\site-packages (from requests->transformers) (2025.4.26)\n",
      "Requirement already satisfied: mpmath<1.4,>=1.1.0 in c:\\users\\dell\\stt-whisper\\venv\\lib\\site-packages (from sympy>=1.13.3->torch->openai-whisper==20240930) (1.3.0)\n",
      "Requirement already satisfied: MarkupSafe>=2.0 in c:\\users\\dell\\stt-whisper\\venv\\lib\\site-packages (from jinja2->torch->openai-whisper==20240930) (3.0.2)\n"
     ]
    },
    {
     "name": "stderr",
     "output_type": "stream",
     "text": [
      "  Running command git clone --filter=blob:none --quiet https://github.com/openai/whisper.git 'C:\\Users\\DELL\\AppData\\Local\\Temp\\pip-req-build-hyy9zf77'\n",
      "\n",
      "[notice] A new release of pip is available: 24.0 -> 25.1.1\n",
      "[notice] To update, run: python.exe -m pip install --upgrade pip\n"
     ]
    }
   ],
   "source": [
    "!pip install git+https://github.com/openai/whisper.git ffmpeg-python torchaudio transformers soundfile\n",
    "\n",
    "# Make sure ffmpeg is installed on your system outside Jupyter\n",
    "# e.g., using `sudo apt install ffmpeg` on Linux or downloading from https://ffmpeg.org/download.html"
   ]
  },
  {
   "cell_type": "code",
   "execution_count": 2,
   "id": "370de5e0",
   "metadata": {},
   "outputs": [],
   "source": [
    "import whisper\n",
    "from pathlib import Path\n",
    "import os\n"
   ]
  },
  {
   "cell_type": "code",
   "execution_count": 3,
   "id": "cd722172",
   "metadata": {},
   "outputs": [
    {
     "name": "stdout",
     "output_type": "stream",
     "text": [
      "✅ Model loaded successfully!\n"
     ]
    }
   ],
   "source": [
    "model = whisper.load_model(\"base\")\n",
    "print(\"✅ Model loaded successfully!\")"
   ]
  },
  {
   "cell_type": "code",
   "execution_count": 4,
   "id": "da63418f",
   "metadata": {},
   "outputs": [],
   "source": [
    "def transcribe_wav(audio_path: str):\n",
    "    if not os.path.exists(audio_path):\n",
    "        raise FileNotFoundError(f\"Audio file not found: {audio_path}\")\n",
    "    \n",
    "    print(f\"🔊 Transcribing {audio_path}...\")\n",
    "    result = model.transcribe(audio_path)\n",
    "    print(\"✅ Transcription complete!\")\n",
    "    return result['text']"
   ]
  },
  {
   "cell_type": "code",
   "execution_count": 5,
   "id": "3d33aafb",
   "metadata": {},
   "outputs": [],
   "source": [
    "def save_transcript(text: str, filename: str):\n",
    "    os.makedirs(\"outputs\", exist_ok=True)\n",
    "    filepath = f\"outputs/{filename}.txt\"\n",
    "    with open(filepath, \"w\", encoding=\"utf-8\") as f:\n",
    "        f.write(text)\n",
    "    print(f\"📄 Transcript saved to {filepath}\")"
   ]
  },
  {
   "cell_type": "code",
   "execution_count": 6,
   "id": "805f6cd8",
   "metadata": {},
   "outputs": [
    {
     "name": "stdout",
     "output_type": "stream",
     "text": [
      "Current working directory: c:\\Users\\DELL\\stt-whisper\n",
      "Does the file exist? False\n",
      "❌ Audio file not found: audio_dataset/LJ001-0001.wav\n"
     ]
    }
   ],
   "source": [
    "audio_file = \"audio_dataset/LJ001-0001.wav\"\n",
    "filename = Path(audio_file).stem\n",
    "\n",
    "# Print the current working directory and check file existence\n",
    "print(\"Current working directory:\", os.getcwd())\n",
    "print(\"Does the file exist?\", os.path.exists(audio_file))\n",
    "\n",
    "if not os.path.exists(audio_file):\n",
    "\tprint(f\"❌ Audio file not found: {audio_file}\")\n",
    "else:\n",
    "\ttranscript = transcribe_wav(audio_file)\n",
    "\tprint(\"\\n📝 TRANSCRIPT:\\n\")\n",
    "\tprint(transcript)\n",
    "\n",
    "\tsave_transcript(transcript, filename)"
   ]
  },
  {
   "cell_type": "code",
   "execution_count": 7,
   "metadata": {},
   "outputs": [],
   "source": [
    "from glob import glob\n",
    "\n",
    "audio_folder = \"audio_dataset/\"\n",
    "wav_files = glob(f\"{audio_folder}/*.wav\")\n",
    "\n",
    "for file_path in wav_files:\n",
    "    filename = Path(file_path).stem\n",
    "    transcript = transcribe_wav(file_path)\n",
    "    save_transcript(transcript, filename)\n"
   ]
  },
  {
   "cell_type": "code",
   "execution_count": null,
   "metadata": {},
   "outputs": [],
   "source": []
  }
 ],
 "metadata": {
  "kernelspec": {
   "display_name": "venv",
   "language": "python",
   "name": "python3"
  },
  "language_info": {
   "codemirror_mode": {
    "name": "ipython",
    "version": 3
   },
   "file_extension": ".py",
   "mimetype": "text/x-python",
   "name": "python",
   "nbconvert_exporter": "python",
   "pygments_lexer": "ipython3",
   "version": "3.12.4"
  }
 },
 "nbformat": 4,
 "nbformat_minor": 5
}
